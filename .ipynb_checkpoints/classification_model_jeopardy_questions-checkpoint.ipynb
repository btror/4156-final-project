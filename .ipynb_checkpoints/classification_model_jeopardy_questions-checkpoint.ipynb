{
 "cells": [
  {
   "cell_type": "code",
   "execution_count": 33,
   "id": "c08bd74a",
   "metadata": {},
   "outputs": [],
   "source": [
    "# Create a classification model using Jeopardy questions to predict categories for each \n",
    "# Jeopardy question. "
   ]
  },
  {
   "cell_type": "code",
   "execution_count": 34,
   "id": "494aa06b",
   "metadata": {},
   "outputs": [],
   "source": [
    "# Import required libraries.\n",
    "\n",
    "import pandas as pd\n",
    "from matplotlib import pyplot as plt\n",
    "from sklearn.feature_extraction.text import TfidfVectorizer\n",
    "from sklearn.model_selection import train_test_split\n",
    "from sklearn.metrics import classification_report\n",
    "from sklearn.svm import LinearSVC"
   ]
  },
  {
   "cell_type": "code",
   "execution_count": 35,
   "id": "8b62a316",
   "metadata": {},
   "outputs": [],
   "source": [
    "# Create a dataframe. Read the Jeopardy questions from the jeopardy_data.csv file\n",
    "# downloaded from https://www.kaggle.com/tunguz/200000-jeopardy-questions.\n",
    "\n",
    "df = pd.read_csv(\"data/jeopardy_data.csv\")"
   ]
  },
  {
   "cell_type": "code",
   "execution_count": 36,
   "id": "c89f45d1",
   "metadata": {},
   "outputs": [
    {
     "name": "stdout",
     "output_type": "stream",
     "text": [
      "   Category                                           Question  \\\n",
      "0   HISTORY  For the last 8 years of his life, Galileo was ...   \n",
      "1   HISTORY  Built in 312 B.C. to link Rome & the South of ...   \n",
      "2   HISTORY  In 1000 Rajaraja I of the Cholas battled to ta...   \n",
      "3   HISTORY  Karl led the first of these Marxist organizati...   \n",
      "4   HISTORY  This Asian political party was founded in 1885...   \n",
      "5   SCIENCE      99.95% of the mass of an atom is in this part   \n",
      "6   SCIENCE  During this plant process, carbon dioxide & wa...   \n",
      "7   SCIENCE  The wedge is an adaptation of the simple machi...   \n",
      "8   SCIENCE  Of the 6 noble gases on the periodic table, it...   \n",
      "9   SCIENCE  Lava & igneous rock are formed from this hot l...   \n",
      "10  HISTORY  After a 15-year stay in England, this propriet...   \n",
      "11  HISTORY  This young man put his savings into a small Cl...   \n",
      "12  HISTORY  First Lady Helen Taft led a fund-raising drive...   \n",
      "13  HISTORY  This Chiricahua Apache was a popular attractio...   \n",
      "14  HISTORY  In 1801 this onetime VP compiled \"A Manual of ...   \n",
      "\n",
      "                    Answer  \n",
      "0               Copernicus  \n",
      "1           the Appian Way  \n",
      "2    Ceylon (or Sri Lanka)  \n",
      "3        the International  \n",
      "4       the Congress Party  \n",
      "5              the nucleus  \n",
      "6           photosynthesis  \n",
      "7                    plane  \n",
      "8                   helium  \n",
      "9                    magma  \n",
      "10            William Penn  \n",
      "11     John D. Rockefeller  \n",
      "12  Sinking of the Titanic  \n",
      "13                Geronimo  \n",
      "14        Thomas Jefferson  \n"
     ]
    }
   ],
   "source": [
    "print(df.head(15))"
   ]
  },
  {
   "cell_type": "code",
   "execution_count": 37,
   "id": "73ee8177",
   "metadata": {},
   "outputs": [],
   "source": [
    "# Use a support vector classifier (SVC) to vectorize the Jeopardy questions.\n",
    "\n",
    "tfidf = TfidfVectorizer(max_features=20000, ngram_range=(1, 5), analyzer=\"char\")\n",
    "X = tfidf.fit_transform(df[\"Question\"])\n",
    "y = df[\"Category\"]"
   ]
  },
  {
   "cell_type": "code",
   "execution_count": 38,
   "id": "6cfe7da3",
   "metadata": {},
   "outputs": [],
   "source": [
    "# Train the data.\n",
    "\n",
    "X_train, X_test, y_train, y_test = train_test_split(X, y, test_size=0.2, random_state=0)"
   ]
  },
  {
   "cell_type": "code",
   "execution_count": 39,
   "id": "6234e6cb",
   "metadata": {},
   "outputs": [
    {
     "name": "stdout",
     "output_type": "stream",
     "text": [
      "  (0, 13656)\t0.08438716457823926\n",
      "  (0, 10707)\t0.07796285446760415\n",
      "  (0, 17265)\t0.07796285446760415\n",
      "  (0, 10706)\t0.07584506894980497\n",
      "  (0, 19404)\t0.08330287012787632\n",
      "  (0, 8726)\t0.08496869552426053\n",
      "  (0, 13306)\t0.08496869552426053\n",
      "  (0, 8725)\t0.07796285446760415\n",
      "  (0, 17836)\t0.07612552942072656\n",
      "  (0, 7283)\t0.07227838687983666\n",
      "  (0, 8223)\t0.0786441267494106\n",
      "  (0, 15832)\t0.08095827618251102\n",
      "  (0, 2000)\t0.08013594876247608\n",
      "  (0, 8222)\t0.07829862371559851\n",
      "  (0, 15831)\t0.07936671283366034\n",
      "  (0, 8221)\t0.07670706036674783\n",
      "  (0, 13221)\t0.08230904305734801\n",
      "  (0, 9727)\t0.06717474163727151\n",
      "  (0, 12276)\t0.07670706036674783\n",
      "  (0, 12275)\t0.07557105642065348\n",
      "  (0, 14296)\t0.08438716457823926\n",
      "  (0, 6303)\t0.08279560122938859\n",
      "  (0, 12658)\t0.08330287012787632\n",
      "  (0, 14295)\t0.08279560122938859\n",
      "  (0, 12657)\t0.0786441267494106\n",
      "  :\t:\n",
      "  (7340, 16468)\t0.03707609579007671\n",
      "  (7340, 17697)\t0.02615006046636362\n",
      "  (7340, 17479)\t0.030154406934462117\n",
      "  (7340, 7000)\t0.03848569063746354\n",
      "  (7340, 9635)\t0.021447481191101625\n",
      "  (7340, 18141)\t0.018499611911073636\n",
      "  (7340, 2244)\t0.018976978153749945\n",
      "  (7340, 14527)\t0.02878828558785265\n",
      "  (7340, 2793)\t0.03997074195697816\n",
      "  (7340, 12222)\t0.04129301075707306\n",
      "  (7340, 6456)\t0.03870154956079356\n",
      "  (7340, 12709)\t0.05267363571819312\n",
      "  (7340, 18717)\t0.020900094554025878\n",
      "  (7340, 19370)\t0.09572551557391816\n",
      "  (7340, 10119)\t0.03494017743470918\n",
      "  (7340, 16467)\t0.05241026615206377\n",
      "  (7340, 4242)\t0.03484133055649045\n",
      "  (7340, 11485)\t0.05580892917237792\n",
      "  (7340, 6999)\t0.06930406542272632\n",
      "  (7340, 9457)\t0.017619214350595373\n",
      "  (7340, 17696)\t0.03483373866764883\n",
      "  (7340, 0)\t0.12087315629595828\n",
      "  (7340, 15348)\t0.017580853940412394\n",
      "  (7340, 13778)\t0.10516375362925838\n",
      "  (7340, 8775)\t0.020893128808180866\n"
     ]
    }
   ],
   "source": [
    "print(X_train)"
   ]
  },
  {
   "cell_type": "code",
   "execution_count": 40,
   "id": "a1d7e297",
   "metadata": {},
   "outputs": [
    {
     "name": "stdout",
     "output_type": "stream",
     "text": [
      "2784     SCIENCE\n",
      "713      HISTORY\n",
      "1235     SCIENCE\n",
      "6088    LITERACY\n",
      "5541    LITERACY\n",
      "          ...   \n",
      "4373     HISTORY\n",
      "7891     SCIENCE\n",
      "4859     HISTORY\n",
      "3264     SCIENCE\n",
      "2732    LITERACY\n",
      "Name: Category, Length: 7341, dtype: object\n"
     ]
    }
   ],
   "source": [
    "print(y_train)"
   ]
  },
  {
   "cell_type": "code",
   "execution_count": 41,
   "id": "9ba246bc",
   "metadata": {},
   "outputs": [
    {
     "name": "stdout",
     "output_type": "stream",
     "text": [
      "  (0, 7285)\t0.10509401645292553\n",
      "  (0, 7284)\t0.09719876874106466\n",
      "  (0, 19374)\t0.10231936133489786\n",
      "  (0, 13234)\t0.10509401645292553\n",
      "  (0, 12714)\t0.09177072185470411\n",
      "  (0, 7283)\t0.09228665159729793\n",
      "  (0, 9727)\t0.08577020386362265\n",
      "  (0, 6698)\t0.09756549660361982\n",
      "  (0, 14063)\t0.10703944476514358\n",
      "  (0, 8862)\t0.10509401645292553\n",
      "  (0, 18600)\t0.10231936133489786\n",
      "  (0, 656)\t0.10449713721167139\n",
      "  (0, 15939)\t0.09794128038424417\n",
      "  (0, 5809)\t0.09997342385909233\n",
      "  (0, 15938)\t0.08384530868229037\n",
      "  (0, 4960)\t0.09454537697273178\n",
      "  (0, 10192)\t0.10133718379575656\n",
      "  (0, 10060)\t0.08461798578602278\n",
      "  (0, 13440)\t0.08647002692378718\n",
      "  (0, 1712)\t0.0951666252662165\n",
      "  (0, 10539)\t0.09177072185470411\n",
      "  (0, 13439)\t0.08647002692378718\n",
      "  (0, 1711)\t0.09454537697273178\n",
      "  (0, 12713)\t0.08920891593871044\n",
      "  (0, 13438)\t0.08543200172613206\n",
      "  :\t:\n",
      "  (1835, 5258)\t0.042031561801053836\n",
      "  (1835, 1469)\t0.024715831577101617\n",
      "  (1835, 9635)\t0.027505726654290855\n",
      "  (1835, 18141)\t0.011862588056437372\n",
      "  (1835, 2244)\t0.02433738345172478\n",
      "  (1835, 12222)\t0.026478500120750186\n",
      "  (1835, 14929)\t0.0296950127932583\n",
      "  (1835, 6456)\t0.06204191495912907\n",
      "  (1835, 12709)\t0.12384587839998966\n",
      "  (1835, 18717)\t0.013401860170190481\n",
      "  (1835, 19370)\t0.04603687214637232\n",
      "  (1835, 2890)\t0.03843904723024226\n",
      "  (1835, 10119)\t0.06721453404306509\n",
      "  (1835, 19691)\t0.03070545483827017\n",
      "  (1835, 3945)\t0.029462889276209908\n",
      "  (1835, 16467)\t0.07841695638357593\n",
      "  (1835, 4242)\t0.08936584263854937\n",
      "  (1835, 11485)\t0.011928868919434317\n",
      "  (1835, 6999)\t0.09999034363913686\n",
      "  (1835, 9457)\t0.03389414049179143\n",
      "  (1835, 17696)\t0.055841481197852094\n",
      "  (1835, 0)\t0.21037893640413158\n",
      "  (1835, 15348)\t0.05636724407463595\n",
      "  (1835, 13778)\t0.056195516144216\n",
      "  (1835, 8775)\t0.040192180482420195\n"
     ]
    }
   ],
   "source": [
    "print(X_test)"
   ]
  },
  {
   "cell_type": "code",
   "execution_count": 42,
   "id": "e186cfed",
   "metadata": {},
   "outputs": [
    {
     "name": "stdout",
     "output_type": "stream",
     "text": [
      "6840    LITERACY\n",
      "8527    LITERACY\n",
      "3895     HISTORY\n",
      "7628     HISTORY\n",
      "3601     HISTORY\n",
      "          ...   \n",
      "655      SCIENCE\n",
      "3844     SCIENCE\n",
      "445      HISTORY\n",
      "5685    LITERACY\n",
      "660      HISTORY\n",
      "Name: Category, Length: 1836, dtype: object\n"
     ]
    }
   ],
   "source": [
    "print(y_test)"
   ]
  },
  {
   "cell_type": "code",
   "execution_count": 43,
   "id": "f455237c",
   "metadata": {},
   "outputs": [
    {
     "data": {
      "text/plain": [
       "LinearSVC(C=20, class_weight='balanced', max_iter=20000)"
      ]
     },
     "execution_count": 43,
     "metadata": {},
     "output_type": "execute_result"
    }
   ],
   "source": [
    "# Fit the data.\n",
    "\n",
    "clf = LinearSVC(C=20, class_weight=\"balanced\", max_iter=20000)\n",
    "clf.fit(X_train, y_train)"
   ]
  },
  {
   "cell_type": "code",
   "execution_count": 44,
   "id": "a1ef6d51",
   "metadata": {},
   "outputs": [
    {
     "name": "stdout",
     "output_type": "stream",
     "text": [
      "              precision    recall  f1-score   support\n",
      "\n",
      "     HISTORY       0.84      0.87      0.85       727\n",
      "    LITERACY       0.87      0.85      0.86       635\n",
      "     SCIENCE       0.83      0.81      0.82       474\n",
      "\n",
      "    accuracy                           0.85      1836\n",
      "   macro avg       0.85      0.84      0.84      1836\n",
      "weighted avg       0.85      0.85      0.85      1836\n",
      "\n"
     ]
    }
   ],
   "source": [
    "# Display a classification report of the model. Show the accuracy of being able to predict\n",
    "# a category.\n",
    "\n",
    "y_pred = clf.predict(X_test)\n",
    "print(classification_report(y_test, y_pred))"
   ]
  },
  {
   "cell_type": "code",
   "execution_count": 45,
   "id": "023424ec",
   "metadata": {},
   "outputs": [
    {
     "data": {
      "text/plain": [
       "Text(0, 0.5, 'category')"
      ]
     },
     "execution_count": 45,
     "metadata": {},
     "output_type": "execute_result"
    },
    {
     "data": {
      "image/png": "[encoded data removed]",
      "text/plain": [
       "<Figure size 432x288 with 1 Axes>"
      ]
     },
     "metadata": {
      "needs_background": "light"
     },
     "output_type": "display_data"
    }
   ],
   "source": [
    "# Plot the model. Show 50 samples.\n",
    "\n",
    "# The red star is a sample category. It represents the ACTUAL category. The blue star\n",
    "# is the predicted category. When a red and blue star overlap it means the prediction\n",
    "# is correct. If they don't overlap it means the prediction is wrong and a line is drawn\n",
    "# connecting the stars to visually indicate an incorrect prediction. There are thousands\n",
    "# of questions, but only 50 are plotted because it is more visually pleasing and easy\n",
    "# to read. \n",
    "\n",
    "fig = plt.figure()\n",
    "ax = plt.axes()\n",
    "\n",
    "y_test = y_test.tolist()\n",
    "y_pred = y_pred.tolist()\n",
    "\n",
    "ax.plot(y_test[0:50], \"3\", color=\"red\", label=\"sample (actual) category\")\n",
    "ax.plot(y_pred[0:50], \"4\", color=\"blue\", label=\"predicted category\")\n",
    "\n",
    "for i in range(50):  # len(y_test)\n",
    "    ax.vlines(x=i, ymin=y_test[i], ymax=y_pred[i], color=\"black\")\n",
    "\n",
    "ax.legend(numpoints=1)\n",
    "\n",
    "ax.set_title(\"classification - SVC\")\n",
    "ax.set_xlabel(\"50 sample Jeopardy questions\")\n",
    "ax.set_ylabel(\"category\")"
   ]
  },
  {
   "cell_type": "code",
   "execution_count": 31,
   "id": "02d1ca84",
   "metadata": {},
   "outputs": [],
   "source": [
    "# ANALYSIS\n",
    "#\n",
    "#\n",
    "# The classification model was able predict the categories of Jeopardy questions that can\n",
    "# be categorized as historical, literature, and scientific at an overall 85% accuracy. \n",
    "# Science was the hardest category to predict by about 1%-4%. The reason could be because\n",
    "# there could be literature-based and historicial questions ABOUT scientific events that\n",
    "# may have occured. There are many overlaps with the language and word-patterns being used,\n",
    "# but more of the science-based questions may fall within the literature and history \n",
    "# categories as well. "
   ]
  }
 ],
 "metadata": {
  "kernelspec": {
   "display_name": "Python 3 (ipykernel)",
   "language": "python",
   "name": "python3"
  },
  "language_info": {
   "codemirror_mode": {
    "name": "ipython",
    "version": 3
   },
   "file_extension": ".py",
   "mimetype": "text/x-python",
   "name": "python",
   "nbconvert_exporter": "python",
   "pygments_lexer": "ipython3",
   "version": "3.9.7"
  }
 },
 "nbformat": 4,
 "nbformat_minor": 5
}
