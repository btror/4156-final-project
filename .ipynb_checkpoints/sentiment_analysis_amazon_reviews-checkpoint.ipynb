{
 "cells": [
  {
   "cell_type": "code",
   "execution_count": 1,
   "id": "0169c7ac",
   "metadata": {},
   "outputs": [],
   "source": [
    "# Create a sentiment analysis model using Amazon reviews of a wireless xbox controller\n",
    "# to predict positive, negative, or neutral sentiments. \n",
    "\n",
    "# Create another model that can predict the rating of Amazon reviews of a wireless xbox\n",
    "# controller (1-5 stars)."
   ]
  },
  {
   "cell_type": "code",
   "execution_count": 2,
   "id": "6cad16f1",
   "metadata": {},
   "outputs": [],
   "source": [
    "# Import required libraries.\n",
    "\n",
    "import requests\n",
    "import pandas as pd\n",
    "from bs4 import BeautifulSoup\n",
    "from matplotlib import pyplot as plt\n",
    "from sklearn.feature_extraction.text import TfidfVectorizer, CountVectorizer\n",
    "from sklearn.model_selection import train_test_split\n",
    "from sklearn.metrics import classification_report\n",
    "from sklearn.naive_bayes import MultinomialNB\n",
    "from sklearn.svm import LinearSVC"
   ]
  },
  {
   "cell_type": "code",
   "execution_count": 3,
   "id": "f2cda927",
   "metadata": {},
   "outputs": [],
   "source": [
    "# Scrape wireless xbox controller reviews from Amazon.com.\n",
    "\n",
    "product_link = \"https://www.amazon.com/Xbox-Wireless-Controller-Pulse-Red-Windows-Devices/product-reviews\" \\\n",
    "               \"/B0859XT328/ref=cm_cr_getr_d_paging_btm_prev_1?ie=UTF8&reviewerType=all_reviews&pageNumber=1\"\n",
    "\n",
    "HEADERS = ({'User-Agent':\n",
    "            'Mozilla/5.0 (Windows NT 10.0; Win64; x64) \\\n",
    "            AppleWebKit/537.36 (KHTML, like Gecko) \\\n",
    "            Chrome/90.0.4430.212 Safari/537.36',\n",
    "            'Accept-Language': 'en-US, en;q=0.5'})\n",
    "\n",
    "# Gather the first 100 pages of reviews.\n",
    "html_data = \"\"\n",
    "for i in range(200):\n",
    "    current_page = str(\"=\" + str(int((i + 1))))\n",
    "    next_page = str(\"=\" + str(int((i + 2))))\n",
    "    html_data += requests.get(product_link, headers=HEADERS).text\n",
    "    product_link = product_link.replace(current_page, next_page)\n",
    "\n",
    "soup = BeautifulSoup(html_data, \"html.parser\")"
   ]
  },
  {
   "cell_type": "code",
   "execution_count": 4,
   "id": "32966301",
   "metadata": {},
   "outputs": [],
   "source": [
    "# Gather the titles, ratings (1-5 stars), and descriptions of each review. Create a new\n",
    "# category called \"sentiment\" that classifies the reviews as positive, negative, or neutral\n",
    "# depending on the amount of stars it has (1-2 = negative, 3 = neutral, 4-5 = positive).\n",
    "\n",
    "html_data = soup.find_all(\"div\", {\"data-hook\": \"review\"})\n",
    "\n",
    "# Store each review in a list.\n",
    "reviews = []\n",
    "for review in html_data:\n",
    "    title = \"\"\n",
    "    rating = \"\"\n",
    "    description = \"\"\n",
    "    sentiment = \"\"\n",
    "    try:\n",
    "        title = review.find(\"a\", {\"data-hook\": \"review-title\"}).text.strip()\n",
    "        rating = float(review.find(\"i\", {\"data-hook\": \"review-star-rating\"}).text.replace(\"out of 5 stars\", \"\")\n",
    "                       .strip())\n",
    "        description = review.find(\"span\", {\"data-hook\": \"review-body\"}).text.replace(\"Read more\", \"\").strip()\n",
    "        if rating < 3:\n",
    "            sentiment = \"negative\"\n",
    "        elif rating < 4:\n",
    "            sentiment = \"neutral\"\n",
    "        else:\n",
    "            sentiment = \"positive\"\n",
    "    except AttributeError:\n",
    "        pass\n",
    "\n",
    "    # Ignore reviews without descriptions.\n",
    "    if title != \"\" and rating != \"\" and description != \"\" and \"The media could not be loaded.\" not in description \\\n",
    "            and \"a \" not in description:\n",
    "        review_dict = {\n",
    "            \"title\": title,\n",
    "            \"rating\": rating,\n",
    "            \"description\": description,\n",
    "            \"sentiment\": sentiment\n",
    "        }\n",
    "        reviews.append(review_dict)"
   ]
  },
  {
   "cell_type": "code",
   "execution_count": 5,
   "id": "0fea19c6",
   "metadata": {},
   "outputs": [],
   "source": [
    "# Create a dataframe.\n",
    "df = pd.DataFrame(reviews)"
   ]
  },
  {
   "cell_type": "code",
   "execution_count": 6,
   "id": "3beba673",
   "metadata": {},
   "outputs": [
    {
     "name": "stdout",
     "output_type": "stream",
     "text": [
      "                                               title  rating  \\\n",
      "0                            Great controller for PC     5.0   \n",
      "1      Finally playing pc games with a controller (:     5.0   \n",
      "2                     A more refined Xbox controller     5.0   \n",
      "3                           not what I was expecting     1.0   \n",
      "4  PC Users: You have to buy the wireless adapter...     4.0   \n",
      "\n",
      "                                         description sentiment  \n",
      "0  The controller works great with PC. However, o...  positive  \n",
      "1  For PC players, you DO NOT need to buy the wir...  positive  \n",
      "2  This review is for the new \"Shock Blue\" varian...  positive  \n",
      "3  for the price I did not expect to get a wirele...  negative  \n",
      "4  Pictured: The Robot White controller (it looks...  positive  \n"
     ]
    }
   ],
   "source": [
    "# Print 5 rows of the dataframe.\n",
    "print(df.head(5))"
   ]
  },
  {
   "cell_type": "code",
   "execution_count": 7,
   "id": "85749233",
   "metadata": {},
   "outputs": [],
   "source": [
    "# Create 4 models. \n",
    "\n",
    "# The first two will use a support vector classifier (SVC). One will use ratings and the other sentiments.\n",
    "# The second will use naive bayes (NB). One will use ratings and the other sentiments."
   ]
  },
  {
   "cell_type": "code",
   "execution_count": 8,
   "id": "89310461",
   "metadata": {},
   "outputs": [],
   "source": [
    "# (SVC) Review ratings model - create a model that predicts the RATING of reviews (1-5 stars)."
   ]
  },
  {
   "cell_type": "code",
   "execution_count": 9,
   "id": "acde7e7c",
   "metadata": {},
   "outputs": [],
   "source": [
    "# (SVC) Review ratings model - vectorize the reviews.\n",
    "\n",
    "tfidf = TfidfVectorizer(max_features=20000, ngram_range=(1, 5), analyzer=\"char\")\n",
    "X = tfidf.fit_transform(df[\"description\"])\n",
    "y = df[\"rating\"]"
   ]
  },
  {
   "cell_type": "code",
   "execution_count": 10,
   "id": "f3456fef",
   "metadata": {},
   "outputs": [],
   "source": [
    "# (SVC) Review ratings model - train the data.\n",
    "\n",
    "X_train, X_test, y_train, y_test = train_test_split(X, y, test_size=0.2, random_state=0)"
   ]
  },
  {
   "cell_type": "code",
   "execution_count": 11,
   "id": "1c5eb011",
   "metadata": {},
   "outputs": [],
   "source": [
    "# (SVC) Review ratings model - fit the data.\n",
    "\n",
    "clf = LinearSVC(C=20, class_weight=\"balanced\", max_iter=20000)\n",
    "clf.fit(X_train, y_train)\n",
    "\n",
    "y_pred = clf.predict(X_test)"
   ]
  },
  {
   "cell_type": "code",
   "execution_count": 12,
   "id": "fb5502f1",
   "metadata": {},
   "outputs": [
    {
     "name": "stdout",
     "output_type": "stream",
     "text": [
      "              precision    recall  f1-score   support\n",
      "\n",
      "         1.0       0.58      0.74      0.65       101\n",
      "         2.0       0.29      0.12      0.17        41\n",
      "         3.0       0.43      0.17      0.24        36\n",
      "         4.0       0.31      0.23      0.27        43\n",
      "         5.0       0.77      0.89      0.83       177\n",
      "\n",
      "    accuracy                           0.64       398\n",
      "   macro avg       0.48      0.43      0.43       398\n",
      "weighted avg       0.59      0.64      0.60       398\n",
      "\n"
     ]
    }
   ],
   "source": [
    "# (SVC) Review ratings model - display a classification report. Show the accuracy of the model.\n",
    "# being able to predict a rating (1-5 stars).\n",
    "\n",
    "print(classification_report(y_test, y_pred))"
   ]
  },
  {
   "cell_type": "code",
   "execution_count": 13,
   "id": "c2f01089",
   "metadata": {},
   "outputs": [
    {
     "data": {
      "image/png": "[encoded data removed]",
      "text/plain": [
       "<Figure size 432x288 with 1 Axes>"
      ]
     },
     "metadata": {
      "needs_background": "light"
     },
     "output_type": "display_data"
    }
   ],
   "source": [
    "# (SVC) Review ratings model - plot some sample data. Show 50 samples.\n",
    "\n",
    "# The red star is a sample category. It represents the ACTUAL category. The blue star\n",
    "# is the predicted category. When a red and blue star overlap it means the prediction\n",
    "# is correct. If they don't overlap it means the prediction is wrong and a line is drawn\n",
    "# connecting the stars to visually indicate an incorrect prediction. There are thousands\n",
    "# of questions, but only 50 are plotted because it is more visually pleasing and easy\n",
    "# to read. \n",
    "\n",
    "y_test = y_test.tolist()\n",
    "y_pred = y_pred.tolist()\n",
    "\n",
    "fig1 = plt.figure()\n",
    "ax1 = plt.axes()\n",
    "\n",
    "ax1.plot(y_test[0:50], \"3\", color=\"red\", label=\"sample (actual) rating\")\n",
    "ax1.plot(y_pred[0:50], \"4\", color=\"blue\", label=\"predicted rating\")\n",
    "\n",
    "for i in range(50):  # len(y_test)\n",
    "    ax1.vlines(x=i, ymin=y_test[i], ymax=y_pred[i], color=\"black\")\n",
    "\n",
    "ax1.legend(numpoints=1)\n",
    "ax1.set_title(\"sentiment analysis - SVC\")\n",
    "ax1.set_xlabel(\"50 sample Amazon reviews\")\n",
    "ax1.set_ylabel(\"review rating\")\n",
    "\n",
    "plt.show()"
   ]
  },
  {
   "cell_type": "code",
   "execution_count": 14,
   "id": "fbe31760",
   "metadata": {},
   "outputs": [],
   "source": [
    "# (SVC) Review sentiment model - create a model that predicts the SENTIMENT of reviews (pos, neg, neut)."
   ]
  },
  {
   "cell_type": "code",
   "execution_count": 15,
   "id": "ffa380e2",
   "metadata": {},
   "outputs": [],
   "source": [
    "# (SVC) Review sentiment model - vectorize the reviews.\n",
    "\n",
    "tfidf = TfidfVectorizer(max_features=20000, ngram_range=(1, 5), analyzer=\"char\")\n",
    "X = tfidf.fit_transform(df[\"description\"])\n",
    "y = df[\"sentiment\"]"
   ]
  },
  {
   "cell_type": "code",
   "execution_count": 16,
   "id": "7e4c2ab4",
   "metadata": {},
   "outputs": [],
   "source": [
    "# (SVC) Review sentiment model - train the data.\n",
    "\n",
    "X_train, X_test, y_train, y_test = train_test_split(X, y, test_size=0.2, random_state=0)"
   ]
  },
  {
   "cell_type": "code",
   "execution_count": 17,
   "id": "1b3cf259",
   "metadata": {},
   "outputs": [],
   "source": [
    "# (SVC) Review sentiment model - fit the data.\n",
    "\n",
    "clf = LinearSVC(C=20, class_weight=\"balanced\", max_iter=20000)\n",
    "clf.fit(X_train, y_train)\n",
    "\n",
    "y_pred = clf.predict(X_test)"
   ]
  },
  {
   "cell_type": "code",
   "execution_count": 18,
   "id": "7cb24b46",
   "metadata": {},
   "outputs": [
    {
     "name": "stdout",
     "output_type": "stream",
     "text": [
      "              precision    recall  f1-score   support\n",
      "\n",
      "    negative       0.75      0.80      0.77       142\n",
      "     neutral       0.39      0.19      0.26        36\n",
      "    positive       0.85      0.89      0.87       220\n",
      "\n",
      "    accuracy                           0.79       398\n",
      "   macro avg       0.66      0.63      0.63       398\n",
      "weighted avg       0.78      0.79      0.78       398\n",
      "\n"
     ]
    }
   ],
   "source": [
    "# (SVC) Review sentiment model - display a classification report. Show the accuracy of the model.\n",
    "# being able to predict a sentiment (pos, neg, neut).\n",
    "\n",
    "print(classification_report(y_test, y_pred))"
   ]
  },
  {
   "cell_type": "code",
   "execution_count": 19,
   "id": "79accd5e",
   "metadata": {},
   "outputs": [
    {
     "data": {
      "image/png": "[encoded data removed]",
      "text/plain": [
       "<Figure size 432x288 with 1 Axes>"
      ]
     },
     "metadata": {
      "needs_background": "light"
     },
     "output_type": "display_data"
    }
   ],
   "source": [
    "# (SVC) Review sentiment model - plot some sample data. Show 50 samples.\n",
    "\n",
    "# The red star is a sample category. It represents the ACTUAL category. The blue star\n",
    "# is the predicted category. When a red and blue star overlap it means the prediction\n",
    "# is correct. If they don't overlap it means the prediction is wrong and a line is drawn\n",
    "# connecting the stars to visually indicate an incorrect prediction. There are thousands\n",
    "# of questions, but only 50 are plotted because it is more visually pleasing and easy\n",
    "# to read. \n",
    "\n",
    "y_test = y_test.tolist()\n",
    "y_pred = y_pred.tolist()\n",
    "\n",
    "fig2 = plt.figure()\n",
    "ax2 = plt.axes()\n",
    "\n",
    "ax2.plot(y_test[0:50], \"3\", color=\"red\", label=\"sample (actual) sentiment\")\n",
    "ax2.plot(y_pred[0:50], \"4\", color=\"blue\", label=\"predicted sentiment\")\n",
    "\n",
    "for i in range(50): \n",
    "    ax2.vlines(x=i, ymin=y_test[i], ymax=y_pred[i], color=\"black\")\n",
    "\n",
    "ax2.legend(numpoints=1)\n",
    "ax2.set_title(\"sentiment analysis - SVC\")\n",
    "ax2.set_xlabel(\"50 sample Amazon reviews\")\n",
    "ax2.set_ylabel(\"review sentiment\")\n",
    "\n",
    "plt.show()"
   ]
  },
  {
   "cell_type": "code",
   "execution_count": 20,
   "id": "ea6221ec",
   "metadata": {},
   "outputs": [],
   "source": [
    "# (NB) Review ratings model - create a model that predicts the RATING of reviews (1-5 stars)."
   ]
  },
  {
   "cell_type": "code",
   "execution_count": 21,
   "id": "a996cc7a",
   "metadata": {},
   "outputs": [],
   "source": [
    "# (NB) Review ratings model - use review description and rating.\n",
    "\n",
    "x = df[\"description\"]\n",
    "y = df[\"rating\"]"
   ]
  },
  {
   "cell_type": "code",
   "execution_count": 22,
   "id": "597494ce",
   "metadata": {},
   "outputs": [],
   "source": [
    "# (NB) Review ratings model - train the data.\n",
    "\n",
    "x, x_test, y, y_test = train_test_split(x, y, stratify=y, test_size=0.25, random_state=42)"
   ]
  },
  {
   "cell_type": "code",
   "execution_count": 23,
   "id": "12ea35c8",
   "metadata": {},
   "outputs": [],
   "source": [
    "# (NB) Review ratings model - transform the data.\n",
    "\n",
    "vec = CountVectorizer(stop_words='english')\n",
    "x = vec.fit_transform(x).toarray()\n",
    "x_test = vec.transform(x_test).toarray()"
   ]
  },
  {
   "cell_type": "code",
   "execution_count": 24,
   "id": "12a492b5",
   "metadata": {},
   "outputs": [],
   "source": [
    "# (NB) Review ratings model - fit the data.\n",
    "\n",
    "model = MultinomialNB()\n",
    "model.fit(x, y)\n",
    "\n",
    "y_pred = model.predict(x_test)"
   ]
  },
  {
   "cell_type": "code",
   "execution_count": 25,
   "id": "25b6d380",
   "metadata": {},
   "outputs": [
    {
     "name": "stdout",
     "output_type": "stream",
     "text": [
      "              precision    recall  f1-score   support\n",
      "\n",
      "         1.0       0.56      0.87      0.68       127\n",
      "         2.0       0.00      0.00      0.00        42\n",
      "         3.0       0.00      0.00      0.00        42\n",
      "         4.0       0.33      0.02      0.04        52\n",
      "         5.0       0.75      0.93      0.83       235\n",
      "\n",
      "    accuracy                           0.66       498\n",
      "   macro avg       0.33      0.36      0.31       498\n",
      "weighted avg       0.53      0.66      0.57       498\n",
      "\n"
     ]
    }
   ],
   "source": [
    "# (NB) Review ratings model - display a classification report. Show the accuracy of the model.\n",
    "# being able to predict a rating (1-5 stars).\n",
    "\n",
    "print(classification_report(y_test, y_pred))"
   ]
  },
  {
   "cell_type": "code",
   "execution_count": 26,
   "id": "4d44a148",
   "metadata": {},
   "outputs": [
    {
     "data": {
      "image/png": "[encoded data removed]",
      "text/plain": [
       "<Figure size 432x288 with 1 Axes>"
      ]
     },
     "metadata": {
      "needs_background": "light"
     },
     "output_type": "display_data"
    }
   ],
   "source": [
    "# (NB) Review ratings model - plot some sample data. Show 50 samples.\n",
    "\n",
    "# The red star is a sample category. It represents the ACTUAL category. The blue star\n",
    "# is the predicted category. When a red and blue star overlap it means the prediction\n",
    "# is correct. If they don't overlap it means the prediction is wrong and a line is drawn\n",
    "# connecting the stars to visually indicate an incorrect prediction. There are thousands\n",
    "# of questions, but only 50 are plotted because it is more visually pleasing and easy\n",
    "# to read. \n",
    "\n",
    "y_test = y_test.tolist()\n",
    "y_pred = y_pred.tolist()\n",
    "\n",
    "fig2 = plt.figure()\n",
    "ax2 = plt.axes()\n",
    "\n",
    "ax2.plot(y_test[0:50], \"3\", color=\"red\", label=\"sample (actual) rating\")\n",
    "ax2.plot(y_pred[0:50], \"4\", color=\"blue\", label=\"predicted rating\")\n",
    "\n",
    "for i in range(50):  # len(y_test)\n",
    "    ax2.vlines(x=i, ymin=y_test[i], ymax=y_pred[i], color=\"black\")\n",
    "\n",
    "ax2.legend(numpoints=1)\n",
    "ax2.set_title(\"sentiment analysis - naive bayes\")\n",
    "ax2.set_xlabel(\"50 sample Amazon reviews\")\n",
    "ax2.set_ylabel(\"review rating\")\n",
    "\n",
    "plt.show()"
   ]
  },
  {
   "cell_type": "code",
   "execution_count": 27,
   "id": "33f60614",
   "metadata": {},
   "outputs": [],
   "source": [
    "# (NB) Review sentiment model - create a model that predicts the SENTIMENT of reviews (pos, neg, neut)."
   ]
  },
  {
   "cell_type": "code",
   "execution_count": 28,
   "id": "f14fc916",
   "metadata": {},
   "outputs": [],
   "source": [
    "# (NB) Review sentiment model - use review description and rating.\n",
    "\n",
    "x = df[\"description\"]\n",
    "y = df[\"sentiment\"]"
   ]
  },
  {
   "cell_type": "code",
   "execution_count": 29,
   "id": "d5d1a998",
   "metadata": {},
   "outputs": [],
   "source": [
    "# (NB) Review sentiment model - train the data.\n",
    "\n",
    "x, x_test, y, y_test = train_test_split(x, y, stratify=y, test_size=0.25, random_state=42)"
   ]
  },
  {
   "cell_type": "code",
   "execution_count": 30,
   "id": "20be4f09",
   "metadata": {},
   "outputs": [],
   "source": [
    "# (NB) Review sentiment model - transform the data.\n",
    "\n",
    "vec = CountVectorizer(stop_words='english')\n",
    "x = vec.fit_transform(x).toarray()\n",
    "x_test = vec.transform(x_test).toarray()"
   ]
  },
  {
   "cell_type": "code",
   "execution_count": 31,
   "id": "4dbe847e",
   "metadata": {},
   "outputs": [],
   "source": [
    "# (NB) Review sentiment model - fit the data.\n",
    "\n",
    "model = MultinomialNB()\n",
    "model.fit(x, y)\n",
    "\n",
    "y_pred = model.predict(x_test)"
   ]
  },
  {
   "cell_type": "code",
   "execution_count": 32,
   "id": "2a32f298",
   "metadata": {},
   "outputs": [
    {
     "name": "stdout",
     "output_type": "stream",
     "text": [
      "              precision    recall  f1-score   support\n",
      "\n",
      "    negative       0.76      0.85      0.80       169\n",
      "     neutral       0.00      0.00      0.00        43\n",
      "    positive       0.86      0.92      0.89       286\n",
      "\n",
      "    accuracy                           0.81       498\n",
      "   macro avg       0.54      0.59      0.56       498\n",
      "weighted avg       0.75      0.81      0.78       498\n",
      "\n"
     ]
    }
   ],
   "source": [
    "# (NB) Review sentiment model - display a classification report. Show the accuracy of the model.\n",
    "# being able to predict a sentiment (pos, neg, neut).\n",
    "\n",
    "print(classification_report(y_test, y_pred))"
   ]
  },
  {
   "cell_type": "code",
   "execution_count": 33,
   "id": "973ad8cc",
   "metadata": {},
   "outputs": [
    {
     "data": {
      "image/png": "[encoded data removed]",
      "text/plain": [
       "<Figure size 432x288 with 1 Axes>"
      ]
     },
     "metadata": {
      "needs_background": "light"
     },
     "output_type": "display_data"
    }
   ],
   "source": [
    "# (NB) Review sentiment model - plot some sample data. Show 50 samples.\n",
    "\n",
    "# The red star is a sample category. It represents the ACTUAL category. The blue star\n",
    "# is the predicted category. When a red and blue star overlap it means the prediction\n",
    "# is correct. If they don't overlap it means the prediction is wrong and a line is drawn\n",
    "# connecting the stars to visually indicate an incorrect prediction. There are thousands\n",
    "# of questions, but only 50 are plotted because it is more visually pleasing and easy\n",
    "# to read. \n",
    "\n",
    "y_test = y_test.tolist()\n",
    "y_pred = y_pred.tolist()\n",
    "\n",
    "fig2 = plt.figure()\n",
    "ax2 = plt.axes()\n",
    "\n",
    "ax2.plot(y_test[0:50], \"3\", color=\"red\", label=\"sample (actual) rating\")\n",
    "ax2.plot(y_pred[0:50], \"4\", color=\"blue\", label=\"predicted rating\")\n",
    "\n",
    "for i in range(50):  # len(y_test)\n",
    "    ax2.vlines(x=i, ymin=y_test[i], ymax=y_pred[i], color=\"black\")\n",
    "\n",
    "ax2.legend(numpoints=1)\n",
    "ax2.set_title(\"sentiment analysis - naive bayes\")\n",
    "ax2.set_xlabel(\"50 sample Amazon reviews\")\n",
    "ax2.set_ylabel(\"review rating\")\n",
    "\n",
    "plt.show()"
   ]
  },
  {
   "cell_type": "code",
   "execution_count": 34,
   "id": "2a174816",
   "metadata": {},
   "outputs": [],
   "source": [
    "# ANALYSIS\n",
    "#\n",
    "#\n",
    "# The classification model was able to more accurately predict ratings (1-5 stars)\n",
    "# than the naive bayes model by 1%. It was able to much more accurately predict \n",
    "# 3 star ratings than the naive bayes one without additional tinkering. \n",
    "#\n",
    "# The naive bayes model was able to more accurately predict sentiments (pos, neg,\n",
    "# and neutr) than the classification model by 3%. It wasn't able to predict\n",
    "# neutral sentiments well at all, but gave strong results for positive and negative\n",
    "# sentiments. This could partly be due to the fact there aren't many 3 star reviews \n",
    "# using language that well depicts something that isn't too high or too low - which \n",
    "# makes it extremely difficult to make middle-of-the-road predictions.\n",
    "#\n",
    "# The takeaway is naive bayes is the best option to use in this example. While it\n",
    "# doesn't outperform the model using a support vector classifier, with further \n",
    "# optimization for 3-star reviews, it can potentially be much more accurate."
   ]
  }
 ],
 "metadata": {
  "kernelspec": {
   "display_name": "Python 3 (ipykernel)",
   "language": "python",
   "name": "python3"
  },
  "language_info": {
   "codemirror_mode": {
    "name": "ipython",
    "version": 3
   },
   "file_extension": ".py",
   "mimetype": "text/x-python",
   "name": "python",
   "nbconvert_exporter": "python",
   "pygments_lexer": "ipython3",
   "version": "3.9.7"
  }
 },
 "nbformat": 4,
 "nbformat_minor": 5
}
